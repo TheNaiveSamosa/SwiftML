{
 "cells": [
  {
   "cell_type": "code",
   "execution_count": 2,
   "metadata": {},
   "outputs": [],
   "source": []
  },
  {
   "cell_type": "code",
   "execution_count": null,
   "metadata": {},
   "outputs": [],
   "source": []
  },
  {
   "cell_type": "code",
   "execution_count": 3,
   "metadata": {},
   "outputs": [
    {
     "name": "stdout",
     "output_type": "stream",
     "text": [
      "[1]\n"
     ]
    }
   ],
   "source": [
    "import pickle \n",
    "import pandas as pd\n",
    "\n",
    "\n",
    "my_list = [[5.7,2.8,4.1,1.3]]\n",
    "pickle_path = r\"models/final_dumped_LinearDiscriminantAnalysis.pkl\"\n",
    "\n",
    "with open(pickle_path, 'rb') as file:\n",
    "    params, model = pickle.load(file)\n",
    "    \n",
    "try:\n",
    "    data = pd.DataFrame(my_list, columns=params)\n",
    "    print(model.predict(data))\n",
    "    \n",
    "except AssertionError and ValueError:\n",
    "    print(\"Please check the input data\")"
   ]
  },
  {
   "cell_type": "code",
   "execution_count": 6,
   "metadata": {},
   "outputs": [
    {
     "name": "stdout",
     "output_type": "stream",
     "text": [
      "{'prediction': [1], 'model': 'LinearDiscriminantAnalysis'}\n"
     ]
    }
   ],
   "source": [
    "import requests\n",
    "\n",
    "URL =  \"http://127.0.0.1:8000/predict\"\n",
    "VALUES = [5.7,2.8,4.1,1.3]\n",
    "\n",
    "data = {\n",
    "    \"values\": VALUES\n",
    "}\n",
    "\n",
    "response = requests.post(URL, json=data)\n",
    "if response.status_code == 200:\n",
    "    data = response.json()\n",
    "    print(data)"
   ]
  },
  {
   "cell_type": "code",
   "execution_count": 7,
   "metadata": {},
   "outputs": [
    {
     "data": {
      "text/plain": [
       "'fc7e251159556ad7648f35db301f4b2e60c3e5f411909330db9d231c1aa2ac90'"
      ]
     },
     "execution_count": 7,
     "metadata": {},
     "output_type": "execute_result"
    }
   ],
   "source": [
    "# function to generate random sha256 string\n",
    "import hashlib\n",
    "import random\n",
    "import string\n",
    "\n",
    "def generate_sha256():\n",
    "    letters = string.ascii_lowercase\n",
    "    result_str = ''.join(random.choice(letters) for i in range(10))\n",
    "    result = hashlib.sha256(result_str.encode())\n",
    "    return result.hexdigest()\n",
    "\n",
    "generate_sha256()"
   ]
  },
  {
   "cell_type": "code",
   "execution_count": 7,
   "metadata": {},
   "outputs": [
    {
     "name": "stdout",
     "output_type": "stream",
     "text": [
      "Document Folder: C:/Users/arpit/Documents/SwiftML/2024-04-08/15-20-33_test_LDA\n"
     ]
    }
   ],
   "source": [
    "import os\n",
    "from datetime import datetime\n",
    "\n",
    "def get_model_folder(csv_file_name, model_name):\n",
    "    doc_folder = os.path.expanduser(r\"~\\Documents\")\n",
    "    date = datetime.now().strftime(\"%Y-%m-%d\")\n",
    "    time = datetime.now().strftime(\"%H-%M-%S\")\n",
    "    \n",
    "    swiftml_folder = os.path.join(doc_folder, \"SwiftML\")\n",
    "    date_folder = os.path.join(swiftml_folder, date)\n",
    "    custom_folder = os.path.join(date_folder, f\"{time}_{csv_file_name.split('.')[0]}_{model_name}\")\n",
    "    \n",
    "    if not os.path.exists(swiftml_folder):\n",
    "        os.makedirs(swiftml_folder)\n",
    "    if not os.path.exists(date_folder):\n",
    "        os.makedirs(date_folder)\n",
    "    if not os.path.exists(custom_folder):\n",
    "        os.makedirs(custom_folder)\n",
    "    \n",
    "    return os.path.join(doc_folder, \"SwiftML\", date, custom_folder).replace(\"\\\\\", \"/\")\n",
    "\n",
    "# Call the function\n",
    "document_folder = get_model_folder(\"test.csv\", \"LDA\")\n",
    "print(\"Document Folder:\", document_folder)"
   ]
  },
  {
   "cell_type": "code",
   "execution_count": 1,
   "metadata": {},
   "outputs": [
    {
     "data": {
      "text/plain": [
       "True"
      ]
     },
     "execution_count": 1,
     "metadata": {},
     "output_type": "execute_result"
    }
   ],
   "source": [
    "X_test = [1,5.1,3.5,1.4,0.2,'Iris-setosa']\n",
    "any(isinstance(i, str) for i in X_test)"
   ]
  },
  {
   "cell_type": "code",
   "execution_count": null,
   "metadata": {},
   "outputs": [],
   "source": []
  }
 ],
 "metadata": {
  "kernelspec": {
   "display_name": ".venv",
   "language": "python",
   "name": "python3"
  },
  "language_info": {
   "codemirror_mode": {
    "name": "ipython",
    "version": 3
   },
   "file_extension": ".py",
   "mimetype": "text/x-python",
   "name": "python",
   "nbconvert_exporter": "python",
   "pygments_lexer": "ipython3",
   "version": "3.11.9"
  }
 },
 "nbformat": 4,
 "nbformat_minor": 2
}
