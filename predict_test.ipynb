{
 "cells": [
  {
   "cell_type": "code",
   "execution_count": 1,
   "metadata": {},
   "outputs": [],
   "source": [
    "my_list = [[5.7,2.8,4.1,1.3]]\n",
    "pickle_path = r\"models/final_dumped_LinearDiscriminantAnalysis.pkl\""
   ]
  },
  {
   "cell_type": "code",
   "execution_count": 4,
   "metadata": {},
   "outputs": [
    {
     "name": "stdout",
     "output_type": "stream",
     "text": [
      "[1]\n"
     ]
    }
   ],
   "source": [
    "import pickle \n",
    "import pandas as pd\n",
    "\n",
    "with open(pickle_path, 'rb') as file:\n",
    "    params, model = pickle.load(file)\n",
    "    \n",
    "try:\n",
    "    data = pd.DataFrame(my_list, columns=params)\n",
    "    print(model.predict(data))\n",
    "    \n",
    "except AssertionError and ValueError:\n",
    "    print(\"Please check the input data\")"
   ]
  },
  {
   "cell_type": "code",
   "execution_count": 49,
   "metadata": {},
   "outputs": [
    {
     "name": "stdout",
     "output_type": "stream",
     "text": [
      "{'prediction': [1], 'model': 'LinearDiscriminantAnalysis'}\n"
     ]
    }
   ],
   "source": [
    "import requests\n",
    "\n",
    "URL =  \"http://127.0.0.1:8000/predict\"\n",
    "VALUES = [5.7,2.8,4.1,1.3]\n",
    "\n",
    "data = {\n",
    "    \"values\": VALUES\n",
    "}\n",
    "\n",
    "response = requests.post(URL, json=data)\n",
    "if response.status_code == 200:\n",
    "    data = response.json()\n",
    "    print(data)"
   ]
  }
 ],
 "metadata": {
  "kernelspec": {
   "display_name": ".venv",
   "language": "python",
   "name": "python3"
  },
  "language_info": {
   "codemirror_mode": {
    "name": "ipython",
    "version": 3
   },
   "file_extension": ".py",
   "mimetype": "text/x-python",
   "name": "python",
   "nbconvert_exporter": "python",
   "pygments_lexer": "ipython3",
   "version": "3.11.9"
  }
 },
 "nbformat": 4,
 "nbformat_minor": 2
}
